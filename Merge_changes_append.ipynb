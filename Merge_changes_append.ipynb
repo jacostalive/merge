{
    "metadata": {
        "kernelspec": {
            "name": "python3",
            "display_name": "Python 3",
            "language": "python"
        },
        "language_info": {
            "name": "python",
            "version": "3.8.8",
            "mimetype": "text/x-python",
            "codemirror_mode": {
                "name": "ipython",
                "version": 3
            },
            "pygments_lexer": "ipython3",
            "nbconvert_exporter": "python",
            "file_extension": ".py"
        }
    },
    "nbformat_minor": 2,
    "nbformat": 4,
    "cells": [
        {
            "cell_type": "code",
            "source": [
                "import pandas as pd"
            ],
            "metadata": {
                "azdata_cell_guid": "01f1aba3-b81f-4a83-9a3b-7d0c90bdd120",
                "language": "python"
            },
            "outputs": [],
            "execution_count": 1
        },
        {
            "cell_type": "code",
            "source": [
                "# df = pd.read_csv('https://raw.githubusercontent.com/numenta/NAB/master/data/realKnownCause/nyc_taxi.csv')\r\n",
                "lst= {'timestamp':['2022-06-01 01:01:00', '2022-06-02 02:02:00', '2022-06-03 03:03:00', '2022-06-04 04:04:00'],\r\n",
                "    'used':[1234, 2222,3333,4444]}\r\n",
                "dfbefore = pd.DataFrame(lst)\r\n",
                "dfbefore.head()"
            ],
            "metadata": {
                "language": "python",
                "azdata_cell_guid": "2eae76b8-9e2c-43f2-953b-9cfea52fe3e5"
            },
            "outputs": [
                {
                    "data": {
                        "text/plain": "             timestamp  used\n0  2022-06-01 01:01:00  1234\n1  2022-06-02 02:02:00  2222\n2  2022-06-03 03:03:00  3333\n3  2022-06-04 04:04:00  4444",
                        "text/html": "<div>\n<style scoped>\n    .dataframe tbody tr th:only-of-type {\n        vertical-align: middle;\n    }\n\n    .dataframe tbody tr th {\n        vertical-align: top;\n    }\n\n    .dataframe thead th {\n        text-align: right;\n    }\n</style>\n<table border=\"1\" class=\"dataframe\">\n  <thead>\n    <tr style=\"text-align: right;\">\n      <th></th>\n      <th>timestamp</th>\n      <th>used</th>\n    </tr>\n  </thead>\n  <tbody>\n    <tr>\n      <th>0</th>\n      <td>2022-06-01 01:01:00</td>\n      <td>1234</td>\n    </tr>\n    <tr>\n      <th>1</th>\n      <td>2022-06-02 02:02:00</td>\n      <td>2222</td>\n    </tr>\n    <tr>\n      <th>2</th>\n      <td>2022-06-03 03:03:00</td>\n      <td>3333</td>\n    </tr>\n    <tr>\n      <th>3</th>\n      <td>2022-06-04 04:04:00</td>\n      <td>4444</td>\n    </tr>\n  </tbody>\n</table>\n</div>"
                    },
                    "metadata": {},
                    "execution_count": 30,
                    "output_type": "execute_result"
                }
            ],
            "execution_count": 30
        },
        {
            "cell_type": "code",
            "source": [
                "# df = pd.read_csv('https://raw.githubusercontent.com/numenta/NAB/master/data/realKnownCause/nyc_taxi.csv')\r\n",
                "lst= {'timestamp':['2022-06-01 01:01:00', '2022-06-02 03:02:00', '2022-06-03 03:03:00', ''],\r\n",
                "    'used':[1234, 2222,3333,4444]}\r\n",
                "dfafter = pd.DataFrame(lst)\r\n",
                "dfafter.head()"
            ],
            "metadata": {
                "language": "python",
                "azdata_cell_guid": "8ac44032-8c6b-43c1-a81f-65ed9066012e"
            },
            "outputs": [
                {
                    "data": {
                        "text/plain": "             timestamp  used\n0  2022-06-01 01:01:00  1234\n1  2022-06-02 03:02:00  2222\n2  2022-06-03 03:03:00  3333\n3                       4444",
                        "text/html": "<div>\n<style scoped>\n    .dataframe tbody tr th:only-of-type {\n        vertical-align: middle;\n    }\n\n    .dataframe tbody tr th {\n        vertical-align: top;\n    }\n\n    .dataframe thead th {\n        text-align: right;\n    }\n</style>\n<table border=\"1\" class=\"dataframe\">\n  <thead>\n    <tr style=\"text-align: right;\">\n      <th></th>\n      <th>timestamp</th>\n      <th>used</th>\n    </tr>\n  </thead>\n  <tbody>\n    <tr>\n      <th>0</th>\n      <td>2022-06-01 01:01:00</td>\n      <td>1234</td>\n    </tr>\n    <tr>\n      <th>1</th>\n      <td>2022-06-02 03:02:00</td>\n      <td>2222</td>\n    </tr>\n    <tr>\n      <th>2</th>\n      <td>2022-06-03 03:03:00</td>\n      <td>3333</td>\n    </tr>\n    <tr>\n      <th>3</th>\n      <td></td>\n      <td>4444</td>\n    </tr>\n  </tbody>\n</table>\n</div>"
                    },
                    "metadata": {},
                    "execution_count": 31,
                    "output_type": "execute_result"
                }
            ],
            "execution_count": 31
        },
        {
            "cell_type": "code",
            "source": [
                "data_12 = dfbefore.merge(dfafter,                           # Merge DataFrames with indicator\r\n",
                "                      indicator = True,\r\n",
                "                      how = 'outer')\r\n",
                "print(data_12)    "
            ],
            "metadata": {
                "language": "python",
                "azdata_cell_guid": "0710ef33-8b72-4744-b40a-8c99b6f46f22"
            },
            "outputs": [
                {
                    "name": "stdout",
                    "text": "             timestamp  used      _merge\n0  2022-06-01 01:01:00  1234        both\n1  2022-06-02 02:02:00  2222   left_only\n2  2022-06-03 03:03:00  3333        both\n3  2022-06-04 04:04:00  4444   left_only\n4  2022-06-02 03:02:00  2222  right_only\n5                       4444  right_only\n",
                    "output_type": "stream"
                }
            ],
            "execution_count": 58
        },
        {
            "cell_type": "code",
            "source": [
                "data_12_diff = data_12.loc[lambda x : x['_merge'] == 'right_only']  # Remove shared rows\r\n",
                "print(data_12_diff)   "
            ],
            "metadata": {
                "language": "python",
                "azdata_cell_guid": "705e0654-46a5-44c8-9a88-6814b3277fd8"
            },
            "outputs": [
                {
                    "name": "stdout",
                    "text": "             timestamp  used      _merge\n4  2022-06-02 03:02:00  2222  right_only\n5                       4444  right_only\n",
                    "output_type": "stream"
                }
            ],
            "execution_count": 60
        },
        {
            "cell_type": "code",
            "source": [
                "dfbefore.append(data_12_diff)\r\n",
                ""
            ],
            "metadata": {
                "language": "python",
                "azdata_cell_guid": "7a8b1d0c-6e8a-4451-a257-aeab232e5de5"
            },
            "outputs": [
                {
                    "data": {
                        "text/plain": "             timestamp  used      _merge\n0  2022-06-01 01:01:00  1234         NaN\n1  2022-06-02 02:02:00  2222         NaN\n2  2022-06-03 03:03:00  3333         NaN\n3  2022-06-04 04:04:00  4444         NaN\n4  2022-06-02 03:02:00  2222  right_only\n5                       4444  right_only",
                        "text/html": "<div>\n<style scoped>\n    .dataframe tbody tr th:only-of-type {\n        vertical-align: middle;\n    }\n\n    .dataframe tbody tr th {\n        vertical-align: top;\n    }\n\n    .dataframe thead th {\n        text-align: right;\n    }\n</style>\n<table border=\"1\" class=\"dataframe\">\n  <thead>\n    <tr style=\"text-align: right;\">\n      <th></th>\n      <th>timestamp</th>\n      <th>used</th>\n      <th>_merge</th>\n    </tr>\n  </thead>\n  <tbody>\n    <tr>\n      <th>0</th>\n      <td>2022-06-01 01:01:00</td>\n      <td>1234</td>\n      <td>NaN</td>\n    </tr>\n    <tr>\n      <th>1</th>\n      <td>2022-06-02 02:02:00</td>\n      <td>2222</td>\n      <td>NaN</td>\n    </tr>\n    <tr>\n      <th>2</th>\n      <td>2022-06-03 03:03:00</td>\n      <td>3333</td>\n      <td>NaN</td>\n    </tr>\n    <tr>\n      <th>3</th>\n      <td>2022-06-04 04:04:00</td>\n      <td>4444</td>\n      <td>NaN</td>\n    </tr>\n    <tr>\n      <th>4</th>\n      <td>2022-06-02 03:02:00</td>\n      <td>2222</td>\n      <td>right_only</td>\n    </tr>\n    <tr>\n      <th>5</th>\n      <td></td>\n      <td>4444</td>\n      <td>right_only</td>\n    </tr>\n  </tbody>\n</table>\n</div>"
                    },
                    "metadata": {},
                    "execution_count": 61,
                    "output_type": "execute_result"
                }
            ],
            "execution_count": 61
        }
    ]
}