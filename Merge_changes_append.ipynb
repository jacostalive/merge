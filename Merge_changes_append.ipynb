{
    "cells": [
        {
            "cell_type": "code",
            "execution_count": 1,
            "metadata": {
                "azdata_cell_guid": "01f1aba3-b81f-4a83-9a3b-7d0c90bdd120",
                "language": "python"
            },
            "outputs": [],
            "source": [
                "import pandas as pd\n",
                "# import numpy\n",
                "# import os"
            ]
        },
        {
            "cell_type": "code",
            "execution_count": 30,
            "metadata": {
                "azdata_cell_guid": "2eae76b8-9e2c-43f2-953b-9cfea52fe3e5",
                "language": "python"
            },
            "outputs": [
                {
                    "data": {
                        "text/html": [
                            "<div>\n",
                            "<style scoped>\n",
                            "    .dataframe tbody tr th:only-of-type {\n",
                            "        vertical-align: middle;\n",
                            "    }\n",
                            "\n",
                            "    .dataframe tbody tr th {\n",
                            "        vertical-align: top;\n",
                            "    }\n",
                            "\n",
                            "    .dataframe thead th {\n",
                            "        text-align: right;\n",
                            "    }\n",
                            "</style>\n",
                            "<table border=\"1\" class=\"dataframe\">\n",
                            "  <thead>\n",
                            "    <tr style=\"text-align: right;\">\n",
                            "      <th></th>\n",
                            "      <th>timestamp</th>\n",
                            "      <th>used</th>\n",
                            "    </tr>\n",
                            "  </thead>\n",
                            "  <tbody>\n",
                            "    <tr>\n",
                            "      <th>0</th>\n",
                            "      <td>2022-06-01 01:01:00</td>\n",
                            "      <td>1234</td>\n",
                            "    </tr>\n",
                            "    <tr>\n",
                            "      <th>1</th>\n",
                            "      <td>2022-06-02 02:02:00</td>\n",
                            "      <td>2222</td>\n",
                            "    </tr>\n",
                            "    <tr>\n",
                            "      <th>2</th>\n",
                            "      <td>2022-06-03 03:03:00</td>\n",
                            "      <td>3333</td>\n",
                            "    </tr>\n",
                            "    <tr>\n",
                            "      <th>3</th>\n",
                            "      <td>2022-06-04 04:04:00</td>\n",
                            "      <td>4444</td>\n",
                            "    </tr>\n",
                            "  </tbody>\n",
                            "</table>\n",
                            "</div>"
                        ],
                        "text/plain": [
                            "             timestamp  used\n",
                            "0  2022-06-01 01:01:00  1234\n",
                            "1  2022-06-02 02:02:00  2222\n",
                            "2  2022-06-03 03:03:00  3333\n",
                            "3  2022-06-04 04:04:00  4444"
                        ]
                    },
                    "execution_count": 30,
                    "metadata": {},
                    "output_type": "execute_result"
                }
            ],
            "source": [
                "# df = pd.read_csv('https://raw.githubusercontent.com/numenta/NAB/master/data/realKnownCause/nyc_taxi.csv')\n",
                "lst= {'timestamp':['2022-06-01 01:01:00', '2022-06-02 02:02:00', '2022-06-03 03:03:00', '2022-06-04 04:04:00'],\n",
                "    'used':[1234, 2222,3333,4444]}\n",
                "dfbefore = pd.DataFrame(lst)\n",
                "dfbefore.head()"
            ]
        },
        {
            "cell_type": "code",
            "execution_count": 31,
            "metadata": {
                "azdata_cell_guid": "8ac44032-8c6b-43c1-a81f-65ed9066012e",
                "language": "python"
            },
            "outputs": [
                {
                    "data": {
                        "text/html": [
                            "<div>\n",
                            "<style scoped>\n",
                            "    .dataframe tbody tr th:only-of-type {\n",
                            "        vertical-align: middle;\n",
                            "    }\n",
                            "\n",
                            "    .dataframe tbody tr th {\n",
                            "        vertical-align: top;\n",
                            "    }\n",
                            "\n",
                            "    .dataframe thead th {\n",
                            "        text-align: right;\n",
                            "    }\n",
                            "</style>\n",
                            "<table border=\"1\" class=\"dataframe\">\n",
                            "  <thead>\n",
                            "    <tr style=\"text-align: right;\">\n",
                            "      <th></th>\n",
                            "      <th>timestamp</th>\n",
                            "      <th>used</th>\n",
                            "    </tr>\n",
                            "  </thead>\n",
                            "  <tbody>\n",
                            "    <tr>\n",
                            "      <th>0</th>\n",
                            "      <td>2022-06-01 01:01:00</td>\n",
                            "      <td>1234</td>\n",
                            "    </tr>\n",
                            "    <tr>\n",
                            "      <th>1</th>\n",
                            "      <td>2022-06-02 03:02:00</td>\n",
                            "      <td>2222</td>\n",
                            "    </tr>\n",
                            "    <tr>\n",
                            "      <th>2</th>\n",
                            "      <td>2022-06-03 03:03:00</td>\n",
                            "      <td>3333</td>\n",
                            "    </tr>\n",
                            "    <tr>\n",
                            "      <th>3</th>\n",
                            "      <td></td>\n",
                            "      <td>4444</td>\n",
                            "    </tr>\n",
                            "  </tbody>\n",
                            "</table>\n",
                            "</div>"
                        ],
                        "text/plain": [
                            "             timestamp  used\n",
                            "0  2022-06-01 01:01:00  1234\n",
                            "1  2022-06-02 03:02:00  2222\n",
                            "2  2022-06-03 03:03:00  3333\n",
                            "3                       4444"
                        ]
                    },
                    "execution_count": 31,
                    "metadata": {},
                    "output_type": "execute_result"
                }
            ],
            "source": [
                "# df = pd.read_csv('https://raw.githubusercontent.com/numenta/NAB/master/data/realKnownCause/nyc_taxi.csv')\n",
                "lst= {'timestamp':['2022-06-01 01:01:00', '2022-06-02 03:02:00', '2022-06-03 03:03:00', ''],\n",
                "    'used':[1234, 2222,3333,4444]}\n",
                "dfafter = pd.DataFrame(lst)\n",
                "dfafter.head()"
            ]
        },
        {
            "cell_type": "code",
            "execution_count": 58,
            "metadata": {
                "azdata_cell_guid": "0710ef33-8b72-4744-b40a-8c99b6f46f22",
                "language": "python"
            },
            "outputs": [
                {
                    "name": "stdout",
                    "output_type": "stream",
                    "text": [
                        "             timestamp  used      _merge\n",
                        "0  2022-06-01 01:01:00  1234        both\n",
                        "1  2022-06-02 02:02:00  2222   left_only\n",
                        "2  2022-06-03 03:03:00  3333        both\n",
                        "3  2022-06-04 04:04:00  4444   left_only\n",
                        "4  2022-06-02 03:02:00  2222  right_only\n",
                        "5                       4444  right_only\n"
                    ]
                }
            ],
            "source": [
                "data_12 = dfbefore.merge(dfafter,                           # Merge DataFrames with indicator\n",
                "                      indicator = True,\n",
                "                      how = 'outer')\n",
                "print(data_12)    "
            ]
        },
        {
            "cell_type": "code",
            "execution_count": 60,
            "metadata": {
                "azdata_cell_guid": "705e0654-46a5-44c8-9a88-6814b3277fd8",
                "language": "python"
            },
            "outputs": [
                {
                    "name": "stdout",
                    "output_type": "stream",
                    "text": [
                        "             timestamp  used      _merge\n",
                        "4  2022-06-02 03:02:00  2222  right_only\n",
                        "5                       4444  right_only\n"
                    ]
                }
            ],
            "source": [
                "data_12_diff = data_12.loc[lambda x : x['_merge'] == 'right_only']  # Remove shared rows\n",
                "print(data_12_diff)   "
            ]
        },
        {
            "cell_type": "code",
            "execution_count": 61,
            "metadata": {
                "azdata_cell_guid": "7a8b1d0c-6e8a-4451-a257-aeab232e5de5",
                "language": "python"
            },
            "outputs": [
                {
                    "data": {
                        "text/html": [
                            "<div>\n",
                            "<style scoped>\n",
                            "    .dataframe tbody tr th:only-of-type {\n",
                            "        vertical-align: middle;\n",
                            "    }\n",
                            "\n",
                            "    .dataframe tbody tr th {\n",
                            "        vertical-align: top;\n",
                            "    }\n",
                            "\n",
                            "    .dataframe thead th {\n",
                            "        text-align: right;\n",
                            "    }\n",
                            "</style>\n",
                            "<table border=\"1\" class=\"dataframe\">\n",
                            "  <thead>\n",
                            "    <tr style=\"text-align: right;\">\n",
                            "      <th></th>\n",
                            "      <th>timestamp</th>\n",
                            "      <th>used</th>\n",
                            "      <th>_merge</th>\n",
                            "    </tr>\n",
                            "  </thead>\n",
                            "  <tbody>\n",
                            "    <tr>\n",
                            "      <th>0</th>\n",
                            "      <td>2022-06-01 01:01:00</td>\n",
                            "      <td>1234</td>\n",
                            "      <td>NaN</td>\n",
                            "    </tr>\n",
                            "    <tr>\n",
                            "      <th>1</th>\n",
                            "      <td>2022-06-02 02:02:00</td>\n",
                            "      <td>2222</td>\n",
                            "      <td>NaN</td>\n",
                            "    </tr>\n",
                            "    <tr>\n",
                            "      <th>2</th>\n",
                            "      <td>2022-06-03 03:03:00</td>\n",
                            "      <td>3333</td>\n",
                            "      <td>NaN</td>\n",
                            "    </tr>\n",
                            "    <tr>\n",
                            "      <th>3</th>\n",
                            "      <td>2022-06-04 04:04:00</td>\n",
                            "      <td>4444</td>\n",
                            "      <td>NaN</td>\n",
                            "    </tr>\n",
                            "    <tr>\n",
                            "      <th>4</th>\n",
                            "      <td>2022-06-02 03:02:00</td>\n",
                            "      <td>2222</td>\n",
                            "      <td>right_only</td>\n",
                            "    </tr>\n",
                            "    <tr>\n",
                            "      <th>5</th>\n",
                            "      <td></td>\n",
                            "      <td>4444</td>\n",
                            "      <td>right_only</td>\n",
                            "    </tr>\n",
                            "  </tbody>\n",
                            "</table>\n",
                            "</div>"
                        ],
                        "text/plain": [
                            "             timestamp  used      _merge\n",
                            "0  2022-06-01 01:01:00  1234         NaN\n",
                            "1  2022-06-02 02:02:00  2222         NaN\n",
                            "2  2022-06-03 03:03:00  3333         NaN\n",
                            "3  2022-06-04 04:04:00  4444         NaN\n",
                            "4  2022-06-02 03:02:00  2222  right_only\n",
                            "5                       4444  right_only"
                        ]
                    },
                    "execution_count": 61,
                    "metadata": {},
                    "output_type": "execute_result"
                }
            ],
            "source": [
                "dfbefore.append(data_12_diff)\n"
            ]
        }
    ],
    "metadata": {
        "kernelspec": {
            "display_name": "Python 3",
            "language": "python",
            "name": "python3"
        },
        "language_info": {
            "codemirror_mode": {
                "name": "ipython",
                "version": 3
            },
            "file_extension": ".py",
            "mimetype": "text/x-python",
            "name": "python",
            "nbconvert_exporter": "python",
            "pygments_lexer": "ipython3",
            "version": "3.8.8"
        }
    },
    "nbformat": 4,
    "nbformat_minor": 2
}
